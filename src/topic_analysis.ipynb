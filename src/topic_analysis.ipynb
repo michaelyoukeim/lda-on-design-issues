{
 "cells": [
  {
   "cell_type": "code",
   "execution_count": 2,
   "metadata": {},
   "outputs": [
    {
     "ename": "FileNotFoundError",
     "evalue": "[Errno 2] No such file or directory: 'c:\\\\Users\\\\micha\\\\R1\\\\UPB\\\\Master\\\\DSSE\\\\lda-on-design-issues\\\\src\\\\..\\\\data\\\\dtm.npz'",
     "output_type": "error",
     "traceback": [
      "\u001b[1;31m---------------------------------------------------------------------------\u001b[0m",
      "\u001b[1;31mFileNotFoundError\u001b[0m                         Traceback (most recent call last)",
      "Cell \u001b[1;32mIn[2], line 11\u001b[0m\n\u001b[0;32m      8\u001b[0m df \u001b[38;5;241m=\u001b[39m pd\u001b[38;5;241m.\u001b[39mread_excel(os\u001b[38;5;241m.\u001b[39mpath\u001b[38;5;241m.\u001b[39mjoin(DEFAULT_DATA_PATH, \u001b[38;5;124m'\u001b[39m\u001b[38;5;124mpreprocessed_issue_details.xlsx\u001b[39m\u001b[38;5;124m'\u001b[39m))\n\u001b[0;32m     10\u001b[0m \u001b[38;5;66;03m# Load saved DTM\u001b[39;00m\n\u001b[1;32m---> 11\u001b[0m dtm, vectorizer \u001b[38;5;241m=\u001b[39m \u001b[43mload_document_term_matrix\u001b[49m\u001b[43m(\u001b[49m\u001b[43mos\u001b[49m\u001b[38;5;241;43m.\u001b[39;49m\u001b[43mpath\u001b[49m\u001b[38;5;241;43m.\u001b[39;49m\u001b[43mjoin\u001b[49m\u001b[43m(\u001b[49m\u001b[43mDEFAULT_DATA_PATH\u001b[49m\u001b[43m,\u001b[49m\u001b[43m \u001b[49m\u001b[38;5;124;43m'\u001b[39;49m\u001b[38;5;124;43mdtm.npz\u001b[39;49m\u001b[38;5;124;43m'\u001b[39;49m\u001b[43m)\u001b[49m\u001b[43m)\u001b[49m\n\u001b[0;32m     13\u001b[0m \u001b[38;5;66;03m# Reuse these variables for analysis\u001b[39;00m\n\u001b[0;32m     14\u001b[0m num_topics_range \u001b[38;5;241m=\u001b[39m \u001b[38;5;28mrange\u001b[39m(\u001b[38;5;241m3\u001b[39m, \u001b[38;5;241m11\u001b[39m)\n",
      "File \u001b[1;32mc:\\Users\\micha\\R1\\UPB\\Master\\DSSE\\lda-on-design-issues\\src\\topic_analysis.py:33\u001b[0m, in \u001b[0;36mload_document_term_matrix\u001b[1;34m(load_path)\u001b[0m\n\u001b[0;32m     32\u001b[0m \u001b[38;5;28;01mdef\u001b[39;00m \u001b[38;5;21mload_document_term_matrix\u001b[39m(load_path):\n\u001b[1;32m---> 33\u001b[0m     dtm \u001b[38;5;241m=\u001b[39m \u001b[43mscipy\u001b[49m\u001b[38;5;241;43m.\u001b[39;49m\u001b[43msparse\u001b[49m\u001b[38;5;241;43m.\u001b[39;49m\u001b[43mload_npz\u001b[49m\u001b[43m(\u001b[49m\u001b[43mload_path\u001b[49m\u001b[43m)\u001b[49m\n\u001b[0;32m     34\u001b[0m     \u001b[38;5;28;01mwith\u001b[39;00m \u001b[38;5;28mopen\u001b[39m(load_path\u001b[38;5;241m.\u001b[39mreplace(\u001b[38;5;124m'\u001b[39m\u001b[38;5;124m.npz\u001b[39m\u001b[38;5;124m'\u001b[39m, \u001b[38;5;124m'\u001b[39m\u001b[38;5;124m_feature_names.txt\u001b[39m\u001b[38;5;124m'\u001b[39m), \u001b[38;5;124m'\u001b[39m\u001b[38;5;124mr\u001b[39m\u001b[38;5;124m'\u001b[39m) \u001b[38;5;28;01mas\u001b[39;00m f:\n\u001b[0;32m     35\u001b[0m         feature_names \u001b[38;5;241m=\u001b[39m [line\u001b[38;5;241m.\u001b[39mstrip() \u001b[38;5;28;01mfor\u001b[39;00m line \u001b[38;5;129;01min\u001b[39;00m f]\n",
      "File \u001b[1;32mc:\\Users\\micha\\R1\\UPB\\Master\\DSSE\\venv_assign02\\lib\\site-packages\\scipy\\sparse\\_matrix_io.py:123\u001b[0m, in \u001b[0;36mload_npz\u001b[1;34m(file)\u001b[0m\n\u001b[0;32m     75\u001b[0m \u001b[38;5;28;01mdef\u001b[39;00m \u001b[38;5;21mload_npz\u001b[39m(file):\n\u001b[0;32m     76\u001b[0m \u001b[38;5;250m    \u001b[39m\u001b[38;5;124;03m\"\"\" Load a sparse matrix from a file using ``.npz`` format.\u001b[39;00m\n\u001b[0;32m     77\u001b[0m \n\u001b[0;32m     78\u001b[0m \u001b[38;5;124;03m    Parameters\u001b[39;00m\n\u001b[1;32m   (...)\u001b[0m\n\u001b[0;32m    120\u001b[0m \u001b[38;5;124;03m           [4, 0, 0]], dtype=int64)\u001b[39;00m\n\u001b[0;32m    121\u001b[0m \u001b[38;5;124;03m    \"\"\"\u001b[39;00m\n\u001b[1;32m--> 123\u001b[0m     \u001b[38;5;28;01mwith\u001b[39;00m np\u001b[38;5;241m.\u001b[39mload(file, \u001b[38;5;241m*\u001b[39m\u001b[38;5;241m*\u001b[39mPICKLE_KWARGS) \u001b[38;5;28;01mas\u001b[39;00m loaded:\n\u001b[0;32m    124\u001b[0m         \u001b[38;5;28;01mtry\u001b[39;00m:\n\u001b[0;32m    125\u001b[0m             matrix_format \u001b[38;5;241m=\u001b[39m loaded[\u001b[38;5;124m'\u001b[39m\u001b[38;5;124mformat\u001b[39m\u001b[38;5;124m'\u001b[39m]\n",
      "File \u001b[1;32mc:\\Users\\micha\\R1\\UPB\\Master\\DSSE\\venv_assign02\\lib\\site-packages\\numpy\\lib\\npyio.py:405\u001b[0m, in \u001b[0;36mload\u001b[1;34m(file, mmap_mode, allow_pickle, fix_imports, encoding, max_header_size)\u001b[0m\n\u001b[0;32m    403\u001b[0m     own_fid \u001b[38;5;241m=\u001b[39m \u001b[38;5;28;01mFalse\u001b[39;00m\n\u001b[0;32m    404\u001b[0m \u001b[38;5;28;01melse\u001b[39;00m:\n\u001b[1;32m--> 405\u001b[0m     fid \u001b[38;5;241m=\u001b[39m stack\u001b[38;5;241m.\u001b[39menter_context(\u001b[38;5;28;43mopen\u001b[39;49m\u001b[43m(\u001b[49m\u001b[43mos_fspath\u001b[49m\u001b[43m(\u001b[49m\u001b[43mfile\u001b[49m\u001b[43m)\u001b[49m\u001b[43m,\u001b[49m\u001b[43m \u001b[49m\u001b[38;5;124;43m\"\u001b[39;49m\u001b[38;5;124;43mrb\u001b[39;49m\u001b[38;5;124;43m\"\u001b[39;49m\u001b[43m)\u001b[49m)\n\u001b[0;32m    406\u001b[0m     own_fid \u001b[38;5;241m=\u001b[39m \u001b[38;5;28;01mTrue\u001b[39;00m\n\u001b[0;32m    408\u001b[0m \u001b[38;5;66;03m# Code to distinguish from NumPy binary files and pickles.\u001b[39;00m\n",
      "\u001b[1;31mFileNotFoundError\u001b[0m: [Errno 2] No such file or directory: 'c:\\\\Users\\\\micha\\\\R1\\\\UPB\\\\Master\\\\DSSE\\\\lda-on-design-issues\\\\src\\\\..\\\\data\\\\dtm.npz'"
     ]
    }
   ],
   "source": [
    "# Import necessary modules\n",
    "from topic_analysis import load_document_term_matrix, run_lda, plot_top_words, plot_coherence_scores, plot_topic_dominance, display_topics, calculate_coherence\n",
    "import pandas as pd\n",
    "import os\n",
    "from config import DEFAULT_DATA_PATH\n",
    "\n",
    "# Load preprocessed data\n",
    "df = pd.read_excel(os.path.join(DEFAULT_DATA_PATH, 'preprocessed_issue_details.xlsx'))\n",
    "\n",
    "# Load saved DTM\n",
    "dtm, vectorizer = load_document_term_matrix(os.path.join(DEFAULT_DATA_PATH, 'dtm.npz'))\n",
    "\n",
    "# Reuse these variables for analysis\n",
    "num_topics_range = range(3, 11)\n",
    "\n",
    "# Calculate coherence scores\n",
    "coherence_scores = calculate_coherence(df, num_topics_range)\n",
    "plot_coherence_scores(num_topics_range, coherence_scores)\n",
    "\n",
    "# Get optimal number of topics\n",
    "optimal_num_topics = num_topics_range[coherence_scores.index(max(coherence_scores))]\n",
    "lda = run_lda(dtm, num_topics=optimal_num_topics)\n",
    "\n",
    "# Display topics\n",
    "topics = display_topics(lda, vectorizer.get_feature_names_out(), 10)\n",
    "\n",
    "# Plot dominance of topics\n",
    "plot_topic_dominance(df)\n",
    "\n",
    "# Plot top words for each topic\n",
    "plot_top_words(lda, vectorizer.get_feature_names_out(), 10, 'Top words per topic')\n"
   ]
  }
 ],
 "metadata": {
  "kernelspec": {
   "display_name": "venv_assign02",
   "language": "python",
   "name": "python3"
  },
  "language_info": {
   "codemirror_mode": {
    "name": "ipython",
    "version": 3
   },
   "file_extension": ".py",
   "mimetype": "text/x-python",
   "name": "python",
   "nbconvert_exporter": "python",
   "pygments_lexer": "ipython3",
   "version": "3.10.6"
  }
 },
 "nbformat": 4,
 "nbformat_minor": 2
}
